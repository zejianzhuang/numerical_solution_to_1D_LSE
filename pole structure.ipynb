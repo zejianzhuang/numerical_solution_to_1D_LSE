{
 "cells": [
  {
   "cell_type": "code",
   "execution_count": 1,
   "metadata": {},
   "outputs": [],
   "source": [
    "using Plots\n",
    "using LaTeXStrings"
   ]
  },
  {
   "cell_type": "code",
   "execution_count": 5,
   "metadata": {},
   "outputs": [
    {
     "data": {
      "text/plain": [
       "\"/Users/zejian/Documents/blog/quantum_mechanics/numerical_solution_to_LSE_eq/figs/pole_structure.png\""
      ]
     },
     "metadata": {},
     "output_type": "display_data"
    }
   ],
   "source": [
    "gs = [-3.55, -8.32, -12.44, -15.71, -18.0, -19.59]\n",
    "reson = [64.01-12.15im, 50.5-10.3im, 38.17-8.5im, 27.04-6.74im, 17.1-5.0im, 8.34-3.24im, 0.78-1.01im]\n",
    "\n",
    "default(framestyle=:origin, tickfontsize=10, legendfontsize=10, guide_position=:top)\n",
    "scatter(real(gs), imag(gs), label=\"Bound\")\n",
    "scatter!(real(reson), imag(reson), markershape=:utriangle, label=\"Resonance\")\n",
    "xlabel!(\"Re(Energy) [eV]\")\n",
    "ylabel!(\"Im(Energy) [eV]\")\n",
    "savefig(\"./figs/pole_structure.png\")"
   ]
  },
  {
   "cell_type": "code",
   "execution_count": 3,
   "metadata": {},
   "outputs": [],
   "source": []
  }
 ],
 "metadata": {
  "kernelspec": {
   "display_name": "Julia 1.8.5",
   "language": "julia",
   "name": "julia-1.8"
  },
  "language_info": {
   "file_extension": ".jl",
   "mimetype": "application/julia",
   "name": "julia",
   "version": "1.8.5"
  },
  "orig_nbformat": 4
 },
 "nbformat": 4,
 "nbformat_minor": 2
}
